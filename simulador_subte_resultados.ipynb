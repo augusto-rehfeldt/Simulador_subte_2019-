{
 "cells": [
  {
   "cell_type": "code",
   "execution_count": null,
   "id": "25d1c000",
   "metadata": {},
   "outputs": [],
   "source": [
    "import pandas as pd\n",
    "import numpy as np\n",
    "import matplotlib.pyplot as plt\n",
    "#import plotly\n",
    "#import plotly.express as px\n",
    "#import plotly.graph_objects as go\n",
    "#from plotly.subplots import make_subplots\n",
    "\n",
    "from IPython.display import clear_output\n",
    "\n",
    "%matplotlib inline\n",
    "\n",
    "import cartopy.crs as ccrs\n",
    "import cartopy.io.shapereader as shpreader\n",
    "import cartopy.feature as cf\n",
    "\n",
    "import os\n",
    "import time\n",
    "import random\n",
    "\n",
    "pd.set_option('display.max_rows', 20)\n",
    "pd.set_option(\"display.max_columns\", 100)"
   ]
  },
  {
   "cell_type": "code",
   "execution_count": null,
   "id": "9457235f",
   "metadata": {},
   "outputs": [],
   "source": [
    "# frecuencia = 3 mins\n",
    "# sesgo_distancia = 0.4"
   ]
  },
  {
   "cell_type": "code",
   "execution_count": null,
   "id": "c544d6d0",
   "metadata": {},
   "outputs": [],
   "source": []
  },
  {
   "cell_type": "markdown",
   "id": "6bd309c3",
   "metadata": {},
   "source": [
    "# preguntas:\n",
    "\n",
    "\n",
    "¿Cómo se distribuye la carga en una línea de subte?\n",
    "¿Cómo varía la carga según el mes y el día de la semana?\n",
    "¿Dónde se produce la mayor entrada de pasajeros?\n",
    "¿Cuán frecuente es encontrar un subte repleto?\n",
    "¿Hay una o más horas picos por sentido?"
   ]
  },
  {
   "cell_type": "code",
   "execution_count": null,
   "id": "4f7f7be8",
   "metadata": {},
   "outputs": [],
   "source": []
  },
  {
   "cell_type": "code",
   "execution_count": null,
   "id": "2e0d317e",
   "metadata": {},
   "outputs": [],
   "source": [
    "dia_semana = \"miercoles\""
   ]
  },
  {
   "cell_type": "code",
   "execution_count": null,
   "id": "9411ccf4",
   "metadata": {},
   "outputs": [],
   "source": [
    "df_a_a = pd.read_csv(f\"datos_finales_A_A_{dia_semana}.csv\")\n",
    "df_a_b = pd.read_csv(f\"datos_finales_A_B_{dia_semana}.csv\")"
   ]
  },
  {
   "cell_type": "code",
   "execution_count": null,
   "id": "0057c778",
   "metadata": {},
   "outputs": [],
   "source": [
    "df_a_a"
   ]
  },
  {
   "cell_type": "code",
   "execution_count": null,
   "id": "22bfd1a7",
   "metadata": {},
   "outputs": [],
   "source": [
    "capacidad_tren = 845"
   ]
  },
  {
   "cell_type": "code",
   "execution_count": null,
   "id": "575ffe78",
   "metadata": {
    "scrolled": false
   },
   "outputs": [],
   "source": [
    "df_slice = df_a_a[df_a_a[\"mes\"]==random.choice(list(df_a_a[\"mes\"].unique()))]\n",
    "df_slice = df_slice[df_slice[\"horario\"]==random.choice(list(df_slice[\"horario\"].unique()))]\n",
    "df_slice = df_slice[df_slice[\"estacion\"]==random.choice(list(df_slice[\"estacion\"].unique()))]\n",
    "\n",
    "def f(dat):\n",
    "    lista = []\n",
    "    for i in dat:\n",
    "        if i > capacidad_tren:\n",
    "            lista.append('background-color: red')\n",
    "        elif i > (capacidad_tren/3)*2:\n",
    "            lista.append('background-color: orange')\n",
    "        elif i > (capacidad_tren/3):\n",
    "            lista.append('background-color: yellow')\n",
    "        else:\n",
    "            lista.append('background-color: lightgreen')\n",
    "    return lista\n",
    "\n",
    "df_a_a[df_a_a[\"tren\"]==df_slice[\"tren\"].to_list()[0]].style.apply(f, axis=0, subset=['carga'])"
   ]
  },
  {
   "cell_type": "code",
   "execution_count": null,
   "id": "8e4cbd2a",
   "metadata": {},
   "outputs": [],
   "source": [
    "df_slice = df_a_b[df_a_b[\"mes\"]==random.choice(list(df_a_b[\"mes\"].unique()))]\n",
    "df_slice = df_slice[df_slice[\"horario\"]==random.choice(list(df_slice[\"horario\"].unique()))]\n",
    "df_slice = df_slice[df_slice[\"estacion\"]==random.choice(list(df_slice[\"estacion\"].unique()))]\n",
    "\n",
    "df_a_b[df_a_b[\"tren\"]==df_slice[\"tren\"].to_list()[0]].style.apply(f, axis=0, subset=['carga'])"
   ]
  },
  {
   "cell_type": "code",
   "execution_count": null,
   "id": "95cd4d98",
   "metadata": {},
   "outputs": [],
   "source": [
    "meses = {\"201901\": \"enero\", \"201902\": \"febrero\", \"201903\": \"marzo\", \"201904\": \"abril\", \"201905\": \"mayo\",\n",
    "        \"201906\": \"junio\", \"201907\": \"julio\", \"201908\": \"agosto\", \"201909\": \"septiembre\", \"201910\": \"octubre\",\n",
    "        \"201911\": \"noviembre\", \"201912\": \"diciembre\"}"
   ]
  },
  {
   "cell_type": "code",
   "execution_count": null,
   "id": "77e013c1",
   "metadata": {
    "scrolled": true
   },
   "outputs": [],
   "source": [
    "for mes in meses.keys():\n",
    "    df_mes = df_a_a[df_a_a[\"mes\"]==int(mes)]\n",
    "\n",
    "    for id in list(df_mes[\"tren\"].unique()):\n",
    "        df_slice = df_mes[df_mes[\"tren\"]==id]\n",
    "        if df_slice[\"carga\"].max() > capacidad_tren:\n",
    "            plt.plot(df_slice[\"estacion\"].to_list(), df_slice[\"carga\"].to_list(), marker='o')\n",
    "            plt.plot(df_slice[\"estacion\"].to_list(), [capacidad_tren for i in range(0, len(df_slice[\"estacion\"].to_list()))],\n",
    "                     label=\"capacidad teórica de la formación\", c=\"r\", linestyle=\"--\")\n",
    "            fig = plt.gcf()\n",
    "            fig.set_size_inches(10.5, 6.5, forward=True)\n",
    "            plt.xticks(rotation=45)\n",
    "            plt.title(f\"Curva de carga del tren de las {df_slice['horario'].to_list()[0]} (3 minutos de frecuencia) en un día {dia_semana} promedio de {meses[str(mes)]}, rumbo a Plaza de Mayo\")\n",
    "            plt.legend()\n",
    "            plt.show()\n",
    "            print(\"Pico:\", df_slice[\"carga\"].max(), \"personas en\", \n",
    "                  df_slice[df_slice[\"carga\"]==df_slice[\"carga\"].max()][\"estacion\"].to_list()[0], \n",
    "                  \"a las\", df_slice[df_slice[\"carga\"]==df_slice[\"carga\"].max()][\"horario\"].to_list()[0])\n",
    "            break"
   ]
  },
  {
   "cell_type": "code",
   "execution_count": null,
   "id": "f59e634d",
   "metadata": {},
   "outputs": [],
   "source": [
    "# curva de carga San Pedrito, que si la frecuencia es de 3 minutos no rompe la capacidad teórica\n",
    "\n",
    "for mes in meses.keys():\n",
    "    df_mes = df_a_b[df_a_b[\"mes\"]==int(mes)]\n",
    "\n",
    "    for id in list(df_mes[\"tren\"].unique()):\n",
    "        df_slice = df_mes[df_mes[\"tren\"]==id]\n",
    "        if df_slice[\"carga\"].max() > capacidad_tren:\n",
    "            plt.plot(df_slice[\"estacion\"].to_list(), df_slice[\"carga\"].to_list(), marker='o')\n",
    "            plt.plot(df_slice[\"estacion\"].to_list(), [capacidad_tren for i in range(0, len(df_slice[\"estacion\"].to_list()))],\n",
    "        c=\"r\", linestyle=\"--\")\n",
    "            fig = plt.gcf()\n",
    "            fig.set_size_inches(10.5, 6.5, forward=True)\n",
    "            plt.xticks(rotation=45)\n",
    "            plt.title(f\"Curva de carga del tren de las {df_slice['horario'].to_list()[0]} (3 minutos de frecuencia) en un día {dia_semana} promedio de {meses[str(mes)]}, rumbo a San Pedrito\")\n",
    "            plt.show()\n",
    "            print(\"Pico:\", df_slice[\"carga\"].max(), \"personas en\", \n",
    "                  df_slice[df_slice[\"carga\"]==df_slice[\"carga\"].max()][\"estacion\"].to_list()[0], \n",
    "                  \"a las\", df_slice[df_slice[\"carga\"]==df_slice[\"carga\"].max()][\"horario\"].to_list()[0])\n",
    "            break"
   ]
  },
  {
   "cell_type": "code",
   "execution_count": null,
   "id": "1b50788e",
   "metadata": {
    "scrolled": false
   },
   "outputs": [],
   "source": [
    "# tren mas lleno de cada sentido, cada dia\n",
    "\n",
    "# tren sentido Mayo, con la mayor carga, los dias lunes\n",
    "\n",
    "dia_semana = \"lunes\" #\"martes\", \"miercoles\", \"jueves\", \"viernes\", \"sabado\", \"domingo\"\n",
    "\n",
    "df_a_a = pd.read_csv(f\"datos_finales_A_A_{dia_semana}.csv\")\n",
    "\n",
    "maximo = df_a_a[df_a_a[\"carga\"]==df_a_a[\"carga\"].max()][\"tren\"]\n",
    "\n",
    "df_a_a[df_a_a[\"tren\"]==maximo.to_list()[0]].style.apply(f, axis=0, subset=['carga'])"
   ]
  },
  {
   "cell_type": "code",
   "execution_count": null,
   "id": "7ee7b5bb",
   "metadata": {},
   "outputs": [],
   "source": [
    "dia_semana = \"jueves\" #\"martes\", \"miercoles\", \"jueves\", \"viernes\", \"sabado\", \"domingo\"\n",
    "\n",
    "df_a_a = pd.read_csv(f\"datos_finales_A_A_{dia_semana}.csv\")\n",
    "\n",
    "maximo = df_a_a[df_a_a[\"carga\"]==df_a_a[\"carga\"].max()][\"tren\"]\n",
    "\n",
    "df_a_a[df_a_a[\"tren\"]==maximo.to_list()[0]].style.apply(f, axis=0, subset=['carga'])"
   ]
  },
  {
   "cell_type": "code",
   "execution_count": null,
   "id": "316eb28e",
   "metadata": {},
   "outputs": [],
   "source": [
    "dia_semana = \"sabado\" #\"martes\", \"miercoles\", \"jueves\", \"viernes\", \"sabado\", \"domingo\"\n",
    "\n",
    "df_a_a = pd.read_csv(f\"datos_finales_A_A_{dia_semana}.csv\")\n",
    "\n",
    "maximo = df_a_a[df_a_a[\"carga\"]==df_a_a[\"carga\"].max()][\"tren\"]\n",
    "\n",
    "df_a_a[df_a_a[\"tren\"]==maximo.to_list()[0]].style.apply(f, axis=0, subset=['carga'])"
   ]
  },
  {
   "cell_type": "code",
   "execution_count": null,
   "id": "71a9d0e7",
   "metadata": {
    "scrolled": false
   },
   "outputs": [],
   "source": [
    "# tren sentido Pedrito, con la mayor carga, los dias lunes\n",
    "\n",
    "dia_semana = \"lunes\" #\"martes\", \"miercoles\", \"jueves\", \"viernes\", \"sabado\", \"domingo\"\n",
    "\n",
    "df_a_b = pd.read_csv(f\"datos_finales_A_B_{dia_semana}.csv\")\n",
    "\n",
    "maximo = df_a_b[df_a_b[\"carga\"]==df_a_b[\"carga\"].max()][\"tren\"]\n",
    "\n",
    "df_a_b[df_a_b[\"tren\"]==maximo.to_list()[0]].style.apply(f, axis=0, subset=['carga'])"
   ]
  },
  {
   "cell_type": "code",
   "execution_count": null,
   "id": "ae068fb6",
   "metadata": {},
   "outputs": [],
   "source": [
    "dia_semana = \"miercoles\" #\"martes\", \"miercoles\", \"jueves\", \"viernes\", \"sabado\", \"domingo\"\n",
    "\n",
    "df_a_b = pd.read_csv(f\"datos_finales_A_B_{dia_semana}.csv\")\n",
    "\n",
    "maximo = df_a_b[df_a_b[\"carga\"]==df_a_b[\"carga\"].max()][\"tren\"]\n",
    "\n",
    "df_a_b[df_a_b[\"tren\"]==maximo.to_list()[0]].style.apply(f, axis=0, subset=['carga'])"
   ]
  },
  {
   "cell_type": "code",
   "execution_count": null,
   "id": "ba5c4199",
   "metadata": {},
   "outputs": [],
   "source": [
    "dia_semana = \"domingo\" #\"martes\", \"miercoles\", \"jueves\", \"viernes\", \"sabado\", \"domingo\"\n",
    "\n",
    "df_a_b = pd.read_csv(f\"datos_finales_A_B_{dia_semana}.csv\")\n",
    "\n",
    "maximo = df_a_b[df_a_b[\"carga\"]==df_a_b[\"carga\"].max()][\"tren\"]\n",
    "\n",
    "df_a_b[df_a_b[\"tren\"]==maximo.to_list()[0]].style.apply(f, axis=0, subset=['carga'])"
   ]
  },
  {
   "cell_type": "code",
   "execution_count": null,
   "id": "ca48fbc6",
   "metadata": {},
   "outputs": [],
   "source": [
    "lista_df_carga_mes = []\n",
    "\n",
    "for dia_semana in [\"lunes\", \"martes\", \"miercoles\", \"jueves\", \"viernes\", \"sabado\", \"domingo\"]:\n",
    "    df_a_a = pd.read_csv(f\"datos_finales_A_A_{dia_semana}.csv\")\n",
    "    \n",
    "    dicc = {\"mes\": [], \"cantidad_trenes_vacios_diarios\": [], \"cantidad_trenes_carga_intermedia_diarios\": [],\n",
    "            \"cantidad_trenes_llenos_diarios\": [], \"cantidad_trenes_repletos_diarios\": []}\n",
    "\n",
    "    for mes in meses.keys():\n",
    "        df_mes = df_a_a[df_a_a[\"mes\"]==int(mes)]\n",
    "\n",
    "        trenes_vacios = []\n",
    "        trenes_carga_intermedia = []\n",
    "        trenes_llenos = []\n",
    "        trenes_repletos = []\n",
    "\n",
    "        for id in list(df_mes[\"tren\"].unique()):\n",
    "            df_slice = df_mes[df_mes[\"tren\"]==id]\n",
    "            if df_slice[\"carga\"].max() > capacidad_tren:\n",
    "                trenes_repletos.append(id)\n",
    "            elif df_slice[\"carga\"].max() > (capacidad_tren/3)*2:\n",
    "                trenes_llenos.append(id)\n",
    "            elif df_slice[\"carga\"].max() > capacidad_tren/3:\n",
    "                trenes_carga_intermedia.append(id)\n",
    "            else:\n",
    "                trenes_vacios.append(id)\n",
    "\n",
    "        dicc[\"mes\"].append(meses[str(mes)]) \n",
    "        dicc[\"cantidad_trenes_vacios_diarios\"].append(len(trenes_vacios))\n",
    "        dicc[\"cantidad_trenes_carga_intermedia_diarios\"].append(len(trenes_carga_intermedia))\n",
    "        dicc[\"cantidad_trenes_llenos_diarios\"].append(len(trenes_llenos))\n",
    "        dicc[\"cantidad_trenes_repletos_diarios\"].append(len(trenes_repletos))\n",
    "\n",
    "    df_carga_mes = pd.DataFrame(data=dicc)\n",
    "    lista_df_carga_mes.append(df_carga_mes)"
   ]
  },
  {
   "cell_type": "code",
   "execution_count": null,
   "id": "f7e83dbe",
   "metadata": {
    "scrolled": true
   },
   "outputs": [],
   "source": [
    "lista_df_carga_mes[0]"
   ]
  },
  {
   "cell_type": "code",
   "execution_count": null,
   "id": "ecb31cd4",
   "metadata": {},
   "outputs": [],
   "source": [
    "df_carga_mes = lista_df_carga_mes[0]"
   ]
  },
  {
   "cell_type": "code",
   "execution_count": null,
   "id": "8020cb58",
   "metadata": {},
   "outputs": [],
   "source": [
    "# cantidad de trenes con un nivel de ocupación superior a su capacidad según promedio de los días hábiles \n",
    "# de cada mes del año, sentido a Plaza de Mayo:\n",
    "\n",
    "plt.plot(df_carga_mes[\"mes\"].to_list(), df_carga_mes[\"cantidad_trenes_repletos_diarios\"].to_list(), c=\"r\")\n",
    "plt.title(f\"Cantidad de trenes sentido Mayo repletos (por encima de la capacidad teórica) los días {dia_semana} de cada mes\")\n",
    "plt.xticks(rotation=45)\n",
    "plt.show()"
   ]
  },
  {
   "cell_type": "code",
   "execution_count": null,
   "id": "1cc65739",
   "metadata": {},
   "outputs": [],
   "source": [
    "# cantidad de trenes con un nivel de ocupación superior a su capacidad según promedio de los días hábiles \n",
    "# de cada mes del año, sentido a Plaza de Mayo:\n",
    "\n",
    "plt.plot(df_carga_mes[\"mes\"].to_list(), df_carga_mes[\"cantidad_trenes_llenos_diarios\"].to_list(), c=\"orange\")\n",
    "plt.title(f\"Cantidad de trenes sentido Mayo llenos (cerca de la capacidad teórica) los días {dia_semana} de cada mes\")\n",
    "plt.xticks(rotation=45)\n",
    "plt.show()"
   ]
  },
  {
   "cell_type": "code",
   "execution_count": null,
   "id": "cd649179",
   "metadata": {},
   "outputs": [],
   "source": [
    "# cantidad de trenes con un nivel de ocupación superior a su capacidad según promedio de los días hábiles \n",
    "# de cada mes del año, sentido a Plaza de Mayo:\n",
    "\n",
    "plt.plot(df_carga_mes[\"mes\"].to_list(), df_carga_mes[\"cantidad_trenes_carga_intermedia_diarios\"].to_list(), c=\"yellow\")\n",
    "plt.title(f\"Cantidad de trenes sentido Mayo con uso medio (mayor a un tercio de la capacidad teórica) los días {dia_semana} de cada mes\")\n",
    "plt.xticks(rotation=45)\n",
    "plt.show()"
   ]
  },
  {
   "cell_type": "code",
   "execution_count": null,
   "id": "01e5e992",
   "metadata": {},
   "outputs": [],
   "source": [
    "# cantidad de trenes con un nivel de ocupación superior a su capacidad según promedio de los días hábiles \n",
    "# de cada mes del año, sentido a Plaza de Mayo:\n",
    "\n",
    "plt.plot(df_carga_mes[\"mes\"].to_list(), df_carga_mes[\"cantidad_trenes_vacios_diarios\"].to_list(), c=\"green\")\n",
    "plt.title(f\"Cantidad de trenes sentido Mayo vacíos (a menos de un tercio de su capacidad) los días {dia_semana} de cada mes\")\n",
    "plt.xticks(rotation=45)\n",
    "plt.show()"
   ]
  },
  {
   "cell_type": "code",
   "execution_count": null,
   "id": "443a4dd6",
   "metadata": {
    "scrolled": true
   },
   "outputs": [],
   "source": [
    "# cantidad de trenes con un nivel de ocupación superior a su capacidad según promedio de los días hábiles \n",
    "# de cada mes del año, sentido a San Pedrito:\n",
    "\n",
    "plt.plot(df_carga_mes[\"mes\"].to_list(), df_carga_mes[\"cantidad_trenes_repletos_diarios\"].to_list(), c=\"r\")\n",
    "plt.title(f\"Cantidad de trenes sentido Pedrito repletos (por encima de la capacidad teórica) los días {dia_semana} de cada mes\")\n",
    "plt.xticks(rotation=45)\n",
    "plt.show()"
   ]
  },
  {
   "cell_type": "code",
   "execution_count": null,
   "id": "927f9f6f",
   "metadata": {},
   "outputs": [],
   "source": [
    "# cantidad de trenes con un nivel de ocupación superior a su capacidad según promedio de los días hábiles \n",
    "# de cada mes del año, sentido a San Pedrito:\n",
    "\n",
    "plt.plot(df_carga_mes[\"mes\"].to_list(), df_carga_mes[\"cantidad_trenes_llenos_diarios\"].to_list(), c=\"orange\")\n",
    "plt.title(f\"Cantidad de trenes sentido Pedrito llenos (cerca de su capacidad teórica) los días {dia_semana} de cada mes\")\n",
    "plt.xticks(rotation=45)\n",
    "plt.show()"
   ]
  },
  {
   "cell_type": "code",
   "execution_count": null,
   "id": "d3d59f22",
   "metadata": {},
   "outputs": [],
   "source": [
    "# cantidad de trenes con un nivel de ocupación superior a su capacidad según promedio de los días hábiles \n",
    "# de cada mes del año, sentido a San Pedrito:\n",
    "\n",
    "plt.plot(df_carga_mes[\"mes\"].to_list(), df_carga_mes[\"cantidad_trenes_carga_intermedia_diarios\"].to_list(), c=\"yellow\")\n",
    "plt.title(f\"Cantidad de trenes sentido Pedrito con uso medio (más de un tercio de su capacidad teórica) los días {dia_semana} de cada mes\")\n",
    "plt.xticks(rotation=45)\n",
    "plt.show()"
   ]
  },
  {
   "cell_type": "code",
   "execution_count": null,
   "id": "3921746b",
   "metadata": {},
   "outputs": [],
   "source": [
    "# cantidad de trenes con un nivel de ocupación superior a su capacidad según promedio de los días hábiles \n",
    "# de cada mes del año, sentido a San Pedrito:\n",
    "        \n",
    "plt.plot(df_carga_mes[\"mes\"].to_list(), df_carga_mes[\"cantidad_trenes_vacios_diarios\"].to_list(), c=\"green\")\n",
    "plt.title(f\"Cantidad de trenes sentido Pedrito vacíos (a menos de un tercio de su capacidad) los días {dia_semana} de cada mes\")\n",
    "plt.xticks(rotation=45)\n",
    "plt.show()"
   ]
  },
  {
   "cell_type": "code",
   "execution_count": null,
   "id": "8503626f",
   "metadata": {
    "scrolled": true
   },
   "outputs": [],
   "source": [
    "# hora pico sentido Mayo por mes\n",
    "\n",
    "for dia_semana in [\"lunes\", \"martes\", \"miercoles\", \"jueves\", \"viernes\", \"sabado\", \"domingo\"]:\n",
    "    df_a_a = pd.read_csv(f\"datos_finales_A_A_{dia_semana}.csv\")\n",
    "\n",
    "    dicc = {\"mes\": [], \"hora pico\": [], \"carga\": []}\n",
    "\n",
    "    for mes in meses.keys():\n",
    "        df_mes = df_a_a[df_a_a[\"mes\"]==int(mes)]\n",
    "\n",
    "        dicc[\"mes\"].append(meses[str(mes)])\n",
    "        dicc[\"hora pico\"].append(df_mes[df_mes[\"carga\"]==df_mes[\"carga\"].max()][\"horario\"].to_list()[0])\n",
    "        dicc[\"carga\"].append(df_mes[\"carga\"].max())\n",
    "\n",
    "    df_hora_pico = pd.DataFrame(data=dicc)\n",
    "    df_hora_pico.plot(x=\"mes\", y=\"carga\")\n",
    "    plt.ylim([0, 1200])\n",
    "    plt.title(f\"Nivel de carga máximo durante los días {dia_semana} de cada mes, en trenes con sentido a Plaza de Mayo\")"
   ]
  },
  {
   "cell_type": "code",
   "execution_count": null,
   "id": "a62014bc",
   "metadata": {
    "scrolled": true
   },
   "outputs": [],
   "source": [
    "# hora pico sentido Pedrito por mes\n",
    "\n",
    "for dia_semana in [\"lunes\", \"martes\", \"miercoles\", \"jueves\", \"viernes\", \"sabado\", \"domingo\"]:\n",
    "\n",
    "    df_a_b = pd.read_csv(f\"datos_finales_A_B_{dia_semana}.csv\")\n",
    "\n",
    "    dicc = {\"mes\": [], \"hora pico\": [], \"carga\": []}\n",
    "\n",
    "    for mes in meses.keys():\n",
    "        df_mes = df_a_b[df_a_b[\"mes\"]==int(mes)]\n",
    "\n",
    "        dicc[\"mes\"].append(meses[str(mes)])\n",
    "        dicc[\"hora pico\"].append(df_mes[df_mes[\"carga\"]==df_mes[\"carga\"].max()][\"horario\"].to_list()[0])\n",
    "        dicc[\"carga\"].append(df_mes[\"carga\"].max())\n",
    "\n",
    "    df_hora_pico = pd.DataFrame(data=dicc)\n",
    "    df_hora_pico.plot(x=\"mes\", y=\"carga\")\n",
    "    plt.ylim([0, 1200])\n",
    "    plt.title(f\"Nivel de carga máximo durante los días {dia_semana} de cada mes, en trenes con sentido a San Pedrito\")"
   ]
  },
  {
   "cell_type": "code",
   "execution_count": null,
   "id": "dc7e9bad",
   "metadata": {},
   "outputs": [],
   "source": [
    "# carga y descarga"
   ]
  },
  {
   "cell_type": "code",
   "execution_count": null,
   "id": "cf161256",
   "metadata": {},
   "outputs": [],
   "source": [
    "# carga de un tren con uno de los niveles de carga más altos del año, sentido Mayo\n",
    "\n",
    "dia_semana = \"jueves\" #\"martes\", \"miercoles\", \"jueves\", \"viernes\", \"sabado\", \"domingo\"\n",
    "\n",
    "df_a_a = pd.read_csv(f\"datos_finales_A_A_{dia_semana}.csv\")\n",
    "\n",
    "maximo = df_a_a[df_a_a[\"carga\"]==df_a_a[\"carga\"].max()][\"tren\"]\n",
    "\n",
    "df_a_a[df_a_a[\"tren\"]==maximo.to_list()[0]].plot(y=\"ingresos\", x=\"estacion\")\n",
    "plt.xticks(rotation=45)\n",
    "plt.title(\"Curva de ingresos de pasajeros a un tren en hora pico, sentido Mayo\")"
   ]
  },
  {
   "cell_type": "code",
   "execution_count": null,
   "id": "11bbe7ec",
   "metadata": {},
   "outputs": [],
   "source": [
    "# descarga de un tren con uno de los niveles de carga más altos del año, sentido Mayo\n",
    "\n",
    "dia_semana = \"jueves\" #\"martes\", \"miercoles\", \"jueves\", \"viernes\", \"sabado\", \"domingo\"\n",
    "\n",
    "df_a_a = pd.read_csv(f\"datos_finales_A_A_{dia_semana}.csv\")\n",
    "\n",
    "maximo = df_a_a[df_a_a[\"carga\"]==df_a_a[\"carga\"].max()][\"tren\"]\n",
    "\n",
    "df_a_a[df_a_a[\"tren\"]==maximo.to_list()[0]].plot(y=\"egresos\", x=\"estacion\")\n",
    "plt.xticks(rotation=45)\n",
    "plt.title(\"Curva de egresos de pasajeros a un tren en hora pico, sentido Mayo\")"
   ]
  },
  {
   "cell_type": "code",
   "execution_count": null,
   "id": "ae2732f6",
   "metadata": {},
   "outputs": [],
   "source": [
    "# carga de un tren con uno de los niveles de carga más altos del año, sentido Pedrito\n",
    "\n",
    "dia_semana = \"jueves\" #\"martes\", \"miercoles\", \"jueves\", \"viernes\", \"sabado\", \"domingo\"\n",
    "\n",
    "df_a_b = pd.read_csv(f\"datos_finales_A_B_{dia_semana}.csv\")\n",
    "\n",
    "maximo = df_a_b[df_a_b[\"carga\"]==df_a_b[\"carga\"].max()][\"tren\"]\n",
    "\n",
    "df_a_b[df_a_b[\"tren\"]==maximo.to_list()[0]].plot(y=\"ingresos\", x=\"estacion\")\n",
    "plt.xticks(rotation=45)\n",
    "plt.title(\"Curva de ingresos de pasajeros a un tren en hora pico, sentido Pedrito\")"
   ]
  },
  {
   "cell_type": "code",
   "execution_count": null,
   "id": "0d813d30",
   "metadata": {},
   "outputs": [],
   "source": [
    "# descarga de un tren con uno de los niveles de carga más altos del año, sentido Pëdrito\n",
    "\n",
    "dia_semana = \"jueves\" #\"martes\", \"miercoles\", \"jueves\", \"viernes\", \"sabado\", \"domingo\"\n",
    "\n",
    "df_a_b = pd.read_csv(f\"datos_finales_A_B_{dia_semana}.csv\")\n",
    "\n",
    "maximo = df_a_b[df_a_b[\"carga\"]==df_a_b[\"carga\"].max()][\"tren\"]\n",
    "\n",
    "df_a_b[df_a_b[\"tren\"]==maximo.to_list()[0]].plot(y=\"egresos\", x=\"estacion\")\n",
    "plt.xticks(rotation=45)\n",
    "plt.title(\"Curva de egresos de pasajeros a un tren en hora pico, sentido Pedrito\")"
   ]
  },
  {
   "cell_type": "code",
   "execution_count": null,
   "id": "f63b66af",
   "metadata": {},
   "outputs": [],
   "source": []
  },
  {
   "cell_type": "code",
   "execution_count": null,
   "id": "60843473",
   "metadata": {},
   "outputs": [],
   "source": [
    "# ¿hay una sola hora pico sentido Mayo?\n",
    "\n",
    "dia_semana = \"jueves\" #\"martes\", \"miercoles\", \"jueves\", \"viernes\", \"sabado\", \"domingo\"\n",
    "\n",
    "df_a_a = pd.read_csv(f\"datos_finales_A_A_{dia_semana}.csv\")\n",
    "\n",
    "lista_carga = []\n",
    "lista_tren = []\n",
    "\n",
    "trenes = df_a_a[df_a_a[\"mes\"]==201903][\"tren\"].unique()\n",
    "\n",
    "for tren in trenes:\n",
    "    df_tren = df_a_a[df_a_a[\"tren\"]==tren]\n",
    "    lista_carga.append(df_tren[\"carga\"].max())\n",
    "    lista_tren.append(df_tren[\"horario\"].to_list()[0])\n",
    "    \n",
    "plt.plot(lista_tren, lista_carga)\n",
    "fig = plt.gcf()\n",
    "fig.set_size_inches(15, 15)\n",
    "plt.xticks(lista_tren[::7], lista_tren[::7], rotation=45)\n",
    "plt.title(\"Carga máxima en la línea, sentido Mayo, según horario del día, los días martes\")\n",
    "plt.show()"
   ]
  },
  {
   "cell_type": "code",
   "execution_count": null,
   "id": "ab188410",
   "metadata": {},
   "outputs": [],
   "source": [
    "# ¿hay una sola hora pico sentido Pedrito?\n",
    "\n",
    "dia_semana = \"martes\" #\"martes\", \"miercoles\", \"jueves\", \"viernes\", \"sabado\", \"domingo\"\n",
    "\n",
    "df_a_b = pd.read_csv(f\"datos_finales_A_B_{dia_semana}.csv\")\n",
    "\n",
    "lista_carga = []\n",
    "lista_tren = []\n",
    "\n",
    "trenes = df_a_b[df_a_b[\"mes\"]==201908][\"tren\"].unique()\n",
    "\n",
    "for tren in trenes:\n",
    "    df_tren = df_a_b[df_a_b[\"tren\"]==tren]\n",
    "    lista_carga.append(df_tren[\"carga\"].max())\n",
    "    lista_tren.append(df_tren[\"horario\"].to_list()[0])\n",
    "    \n",
    "plt.plot(lista_tren, lista_carga)\n",
    "fig = plt.gcf()\n",
    "fig.set_size_inches(15, 15)\n",
    "plt.xticks(lista_tren[::7], lista_tren[::7], rotation=45)\n",
    "plt.title(\"Carga máxima en la línea, sentido Pedrito, según horario del día, los días martes\")\n",
    "plt.show()"
   ]
  },
  {
   "cell_type": "code",
   "execution_count": null,
   "id": "8be35032",
   "metadata": {},
   "outputs": [],
   "source": [
    "# probabilidad de encontrar un subte lleno según hora del día en un día hábil promedio, sentido Mayo, \n",
    "# en distintas estaciones"
   ]
  },
  {
   "cell_type": "code",
   "execution_count": null,
   "id": "41079c44",
   "metadata": {},
   "outputs": [],
   "source": []
  },
  {
   "cell_type": "code",
   "execution_count": null,
   "id": "a9854f5d",
   "metadata": {},
   "outputs": [],
   "source": []
  },
  {
   "cell_type": "code",
   "execution_count": null,
   "id": "5fb9053a",
   "metadata": {},
   "outputs": [],
   "source": []
  },
  {
   "cell_type": "code",
   "execution_count": null,
   "id": "e6cbd460",
   "metadata": {},
   "outputs": [],
   "source": [
    "# probabilidad de encontrar un subte lleno según hora del día en un día hábil promedio, sentido Pedrito, \n",
    "# en distintas estaciones"
   ]
  },
  {
   "cell_type": "code",
   "execution_count": null,
   "id": "b75429b9",
   "metadata": {},
   "outputs": [],
   "source": []
  },
  {
   "cell_type": "code",
   "execution_count": null,
   "id": "adfa2ef4",
   "metadata": {},
   "outputs": [],
   "source": [
    "# sacar el tiempo de ocupacion promedio, posible?"
   ]
  },
  {
   "cell_type": "code",
   "execution_count": null,
   "id": "d63142cd",
   "metadata": {},
   "outputs": [],
   "source": []
  },
  {
   "cell_type": "code",
   "execution_count": null,
   "id": "9d5e3309",
   "metadata": {},
   "outputs": [],
   "source": []
  },
  {
   "cell_type": "code",
   "execution_count": null,
   "id": "4ceaced8",
   "metadata": {},
   "outputs": [],
   "source": []
  },
  {
   "cell_type": "code",
   "execution_count": null,
   "id": "8ea847a0",
   "metadata": {},
   "outputs": [],
   "source": [
    "dia_semana = \"lunes\"\n",
    "df_a_a = pd.read_csv(f\"datos_finales_A_A_{dia_semana}.csv\")\n",
    "df_a_b = pd.read_csv(f\"datos_finales_A_B_{dia_semana}.csv\")"
   ]
  },
  {
   "cell_type": "code",
   "execution_count": null,
   "id": "5d465936",
   "metadata": {},
   "outputs": [],
   "source": [
    "dicc = {\"linea\": [\"A\", \"A\", \"A\", \"A\", \"A\", \"A\", \"A\", \"A\", \"A\", \"A\", \"A\", \"A\", \"A\", \"A\", \"A\", \"A\", \"A\", \"A\"],\n",
    "       \"estacion\": [\"San Pedrito\", \"Flores\", \"Carabobo\", \"Puan\", \"Primera Junta\", \"Acoyte\", \"Rio de Janeiro\",\n",
    "                   \"Castro Barros\", \"Loria\", \"Plaza Miserere\", \"Alberti\", \"Pasco\", \"Congreso\", \"Saenz Peña\", \n",
    "                    \"Lima\", \"Piedras\", \"Peru\", \"Plaza de Mayo\"],\n",
    "       \"long\": [-58.469640, -58.463541,-58.456710,-58.448648,-58.441178,-58.436429,-58.429500,-58.421816,\n",
    "               -58.415186,-58.406707,-58.401208,-58.398427,-58.392669,-58.386777,-58.382232,-58.379085,\n",
    "               -58.374268,-58.370968],\n",
    "       \"lat\": [-34.630707,-34.629087,-34.626667,-34.623529,-34.620405,-34.618280,-34.615206,-34.611770,\n",
    "              -34.610782,-34.609817,-34.609834,-34.609646,-34.609226,-34.609413,-34.609100,-34.608882,\n",
    "              -34.608559,-34.608810]}\n",
    "\n",
    "df_estacion_loc = pd.DataFrame(data=dicc)"
   ]
  },
  {
   "cell_type": "code",
   "execution_count": null,
   "id": "05bd81d9",
   "metadata": {
    "scrolled": true
   },
   "outputs": [],
   "source": [
    "for tren in df_a_a[df_a_a[\"mes\"]==201903][\"tren\"].unique():\n",
    "    \n",
    "    ax = plt.axes(projection=ccrs.PlateCarree())\n",
    "    ax.add_feature(cf.BORDERS)\n",
    "\n",
    "    for c in os.listdir(r\"Ciudad\"):\n",
    "        if c.endswith(\".shp\"):\n",
    "            adm1_shapes = list(shpreader.Reader(\"Ciudad/\" + c).geometries())\n",
    "\n",
    "            ax.add_geometries(adm1_shapes, ccrs.PlateCarree(),\n",
    "                              edgecolor='black', facecolor='lightgrey', alpha=0.5)\n",
    "\n",
    "    ax.coastlines(resolution='50m')\n",
    "\n",
    "    ax.set_extent([-58.485, -58.345, -34.57, -34.67], ccrs.PlateCarree())\n",
    "\n",
    "    fig = plt.gcf()\n",
    "    fig.set_size_inches(15, 15, forward=True)\n",
    "\n",
    "    df_random = df_a_a[df_a_a[\"tren\"]==tren]\n",
    "\n",
    "    iterar = df_estacion_loc[df_estacion_loc[\"linea\"]==\"A\"].iterrows()\n",
    "    \n",
    "    estaciones = df_random[\"estacion\"].unique()\n",
    "    \n",
    "    long_coords = []\n",
    "    lat_coords = []\n",
    "    \n",
    "    for index, row in iterar:\n",
    "        if row[\"estacion\"] in estaciones:\n",
    "            long, lat = row[\"long\"], row[\"lat\"]\n",
    "            \n",
    "            long_coords.append(long)\n",
    "            lat_coords.append(lat)\n",
    "            \n",
    "            valor = df_random[df_random[\"estacion\"]==row[\"estacion\"]][\"carga\"].to_list()[0] if row[\"estacion\"] != \"Alberti\" else 0\n",
    "\n",
    "            plt.scatter(long, lat, color=(\"lightgreen\" if valor <= capacidad_tren/3 else ((\"yellow\" if valor <= (capacidad_tren/3)*2 else (\"orange\" if valor <= capacidad_tren else \"red\")))), \n",
    "                        linewidth=2, marker='o', label=row[\"estacion\"], s=valor)\n",
    "            plt.text(long-0.001, lat+0.002, label=f'{row[\"estacion\"]} - {df_random[df_random[\"estacion\"]==row[\"estacion\"]][\"carga\"].to_list()[0]}',\n",
    "                    s=f'{df_random[df_random[\"estacion\"]==row[\"estacion\"]][\"carga\"].to_list()[0] if row[\"estacion\"] != \"Alberti\" else \"\"}')\n",
    "            plt.legend()\n",
    "            plt.title(f\"Nivel de carga en el tren de las {df_random['horario'].to_list()[0]} en un día {dia_semana} promedio del mes de {meses[str(df_a_a[df_a_a['tren']==tren]['mes'].to_list()[0])]}, rumbo a Plaza de Mayo.\")\n",
    "\n",
    "    plt.text(-58.370968-0.01, -34.608810-0.055, fontsize=\"xx-large\",\n",
    "             s=f\"{df_random['horario'].to_list()[0]} a {df_random['horario'].to_list()[-1]}\")\n",
    "            \n",
    "    plt.plot(long_coords, lat_coords)\n",
    "            \n",
    "    plt.show()"
   ]
  },
  {
   "cell_type": "code",
   "execution_count": null,
   "id": "7fade17b",
   "metadata": {},
   "outputs": [],
   "source": [
    "for tren in df_a_b[df_a_b[\"mes\"]==201903][\"tren\"].unique():\n",
    "    \n",
    "    ax = plt.axes(projection=ccrs.PlateCarree())\n",
    "    ax.add_feature(cf.BORDERS)\n",
    "\n",
    "    for c in os.listdir(r\"Ciudad\"):\n",
    "        if c.endswith(\".shp\"):\n",
    "            adm1_shapes = list(shpreader.Reader(\"Ciudad/\" + c).geometries())\n",
    "\n",
    "            ax.add_geometries(adm1_shapes, ccrs.PlateCarree(),\n",
    "                              edgecolor='black', facecolor='lightgrey', alpha=0.5)\n",
    "\n",
    "    ax.coastlines(resolution='50m')\n",
    "\n",
    "    ax.set_extent([-58.485, -58.345, -34.57, -34.67], ccrs.PlateCarree())\n",
    "\n",
    "    fig = plt.gcf()\n",
    "    fig.set_size_inches(15, 15, forward=True)\n",
    "\n",
    "    df_random = df_a_b[df_a_b[\"tren\"]==tren]\n",
    "\n",
    "    iterar = df_estacion_loc[df_estacion_loc[\"linea\"]==\"A\"].iterrows()\n",
    "    \n",
    "    estaciones = df_random[\"estacion\"].unique()\n",
    "    \n",
    "    long_coords = []\n",
    "    lat_coords = []\n",
    "    \n",
    "    for index, row in iterar:\n",
    "        if row[\"estacion\"] in estaciones:\n",
    "            long, lat = row[\"long\"], row[\"lat\"]\n",
    "            \n",
    "            long_coords.append(long)\n",
    "            lat_coords.append(lat)\n",
    "            \n",
    "            valor = df_random[df_random[\"estacion\"]==row[\"estacion\"]][\"carga\"].to_list()[0] if row[\"estacion\"] != \"Pasco\" else 0\n",
    "\n",
    "            plt.scatter(long, lat, color=(\"lightgreen\" if valor <= capacidad_tren/3 else ((\"yellow\" if valor <= (capacidad_tren/3)*2 else (\"orange\" if valor <= capacidad_tren else \"red\")))), \n",
    "                        linewidth=2, marker='o', label=row[\"estacion\"], s=valor)\n",
    "            plt.text(long-0.001, lat+0.002, label=f'{row[\"estacion\"]} - {df_random[df_random[\"estacion\"]==row[\"estacion\"]][\"carga\"].to_list()[0]}',\n",
    "                    s=f'{df_random[df_random[\"estacion\"]==row[\"estacion\"]][\"carga\"].to_list()[0] if row[\"estacion\"] != \"Pasco\" else \"\"}')\n",
    "            plt.legend()\n",
    "            plt.title(f\"Nivel de carga en el tren de las {df_random['horario'].to_list()[0]} en un día {dia_semana} promedio del mes de {meses[str(df_a_b[df_a_b['tren']==tren]['mes'].to_list()[0])]}, rumbo a San Pedrito.\")\n",
    "    \n",
    "    plt.text(-58.370968-0.01, -34.608810-0.055, fontsize=\"xx-large\",\n",
    "             s=f\"{df_random['horario'].to_list()[0]} a {df_random['horario'].to_list()[-1]}\")\n",
    "            \n",
    "    plt.plot(long_coords, lat_coords)\n",
    "            \n",
    "    plt.show()"
   ]
  }
 ],
 "metadata": {
  "kernelspec": {
   "display_name": "Python 3 (ipykernel)",
   "language": "python",
   "name": "python3"
  },
  "language_info": {
   "codemirror_mode": {
    "name": "ipython",
    "version": 3
   },
   "file_extension": ".py",
   "mimetype": "text/x-python",
   "name": "python",
   "nbconvert_exporter": "python",
   "pygments_lexer": "ipython3",
   "version": "3.8.8"
  }
 },
 "nbformat": 4,
 "nbformat_minor": 5
}
